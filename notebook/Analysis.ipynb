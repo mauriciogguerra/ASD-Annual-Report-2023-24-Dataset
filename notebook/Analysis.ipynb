{
 "cells": [
  {
   "cell_type": "markdown",
   "id": "fb90d2b6",
   "metadata": {},
   "source": [
    "# ASD 2023–24 Cyber Threat Report. Exploratory Analysis\n",
    "\n",
    "THis notebook loads cleaned dataset and answers the 3 main questions. You have to run cells in order."
   ]
  },
  {
   "cell_type": "code",
   "execution_count": null,
   "id": "b43923a5",
   "metadata": {},
   "outputs": [],
   "source": [
    "import pandas as pd\n",
    "import matplotlib.pyplot as plt\n",
    "import os\n",
    "%matplotlib inline\n",
    "BASE = '..'\n",
    "DATA_PATH = os.path.join(BASE, 'data', 'ASD-Annual-Report-2023-24-Dataset-23-24.csv')\n",
    "df = pd.read_csv(DATA_PATH)\n",
    "df.head()"
   ]
  },
  {
   "cell_type": "markdown",
   "id": "726daf41",
   "metadata": {},
   "source": [
    "## Dataset summary\n",
    "We show basic counts and check for key categories."
   ]
  },
  {
   "cell_type": "code",
   "execution_count": null,
   "id": "4492a2dd",
   "metadata": {},
   "outputs": [],
   "source": [
    "print('Rows:', len(df))\n",
    "print('Columns:', list(df.columns))\n",
    "print('\\nCategory value counts:\\n', df['category'].value_counts())"
   ]
  },
  {
   "cell_type": "markdown",
   "id": "e297ed55",
   "metadata": {},
   "source": [
    "### Q1 — When did incident activity peak?"
   ]
  },
  {
   "cell_type": "code",
   "execution_count": null,
   "id": "fec49b5e",
   "metadata": {},
   "outputs": [],
   "source": [
    "m = df[df['subcategory']=='By month'].copy()\n",
    "m['month'] = m['metric'].str.extract(r'\\((\\d{4}-\\d{2})\\)')\n",
    "m['count'] = pd.to_numeric(m['value'], errors='coerce')\n",
    "m = m.sort_values('month')\n",
    "plt.figure(figsize=(10,4))\n",
    "plt.plot(m['month'], m['count'], marker='o')\n",
    "plt.xticks(rotation=45)\n",
    "plt.title('Monthly incidents (ASD responses) — FY2023–24')\n",
    "plt.xlabel('Month')\n",
    "plt.ylabel('Incidents')\n",
    "plt.grid(axis='y', linestyle='--', alpha=0.4)\n",
    "plt.tight_layout()\n",
    "plt.show()\n",
    "print('\\nPeak month:', m.loc[m['count'].idxmax()].month if not m['count'].isna().all() else 'n/a')"
   ]
  },
  {
   "cell_type": "markdown",
   "id": "20bda68c",
   "metadata": {},
   "source": [
    "### Q2 — CI vs non-CI incident types and vectors"
   ]
  },
  {
   "cell_type": "code",
   "execution_count": null,
   "id": "9fc9e0b2",
   "metadata": {},
   "outputs": [],
   "source": [
    "ci = df[df['category']=='Critical Infrastructure']\n",
    "ci_types = ci[ci['metric'].str.contains('%') | ci['metric'].str.contains('incidents', case=False)]\n",
    "ci_types[['metric','value','unit']]\n"
   ]
  },
  {
   "cell_type": "markdown",
   "id": "49ea934e",
   "metadata": {},
   "source": [
    "### Q3 — Financial impact by business size"
   ]
  },
  {
   "cell_type": "code",
   "execution_count": null,
   "id": "6f157d08",
   "metadata": {},
   "outputs": [],
   "source": [
    "biz = df[df['category']=='Business Impact']\n",
    "print(biz[['metric','value','unit','change_vs_prev_year']])\n",
    "# BEC losses\n",
    "bec = df[df['metric'].str.contains('BEC', case=False, na=False)]\n",
    "print('\\nBEC-related rows:')\n",
    "print(bec[['metric','value','unit','context']])\n"
   ]
  },
  {
   "cell_type": "markdown",
   "id": "3d13f82c",
   "metadata": {},
   "source": [
    "## Conclusions\n",
    "- Monthly spikes: March 2024 peak; Jan is lowest.\n",
    "- CI experiences higher DoS/DDoS and credential compromises.\n",
    "- BEC accounts for the largest aggregate financial loss in the dataset.\n",
    "\n",
    "---\n",
    "Notebook generated programmatically."
   ]
  }
 ],
 "metadata": {},
 "nbformat": 4,
 "nbformat_minor": 5
}
